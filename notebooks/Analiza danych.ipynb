{
 "cells": [
  {
   "cell_type": "markdown",
   "id": "3735162c",
   "metadata": {},
   "source": [
    "# Set Up"
   ]
  },
  {
   "cell_type": "markdown",
   "id": "56de42a6",
   "metadata": {},
   "source": [
    "## importy"
   ]
  },
  {
   "cell_type": "code",
   "execution_count": 1,
   "id": "d9ab59ec",
   "metadata": {},
   "outputs": [],
   "source": [
    "import sys\n",
    "sys.path.append('/home/wkocin/projects/ancient_nlp/')"
   ]
  },
  {
   "cell_type": "code",
   "execution_count": 2,
   "id": "f4ce6ac7",
   "metadata": {},
   "outputs": [],
   "source": [
    "from pathlib import Path "
   ]
  },
  {
   "cell_type": "code",
   "execution_count": 3,
   "id": "6433d102",
   "metadata": {},
   "outputs": [],
   "source": [
    "import xml.etree.ElementTree as ET"
   ]
  },
  {
   "cell_type": "code",
   "execution_count": 4,
   "id": "612d1caa",
   "metadata": {},
   "outputs": [],
   "source": [
    "from xml_parser import parse_perseus_xml"
   ]
  },
  {
   "cell_type": "markdown",
   "id": "818d9e91",
   "metadata": {},
   "source": [
    "## Ścieżki"
   ]
  },
  {
   "cell_type": "code",
   "execution_count": 5,
   "id": "719a0873",
   "metadata": {},
   "outputs": [],
   "source": [
    "project_path = Path('/home/wkocin/projects/ancient_nlp/')"
   ]
  },
  {
   "cell_type": "code",
   "execution_count": 6,
   "id": "88b465d9",
   "metadata": {},
   "outputs": [],
   "source": [
    "data_path = project_path / 'data'"
   ]
  },
  {
   "cell_type": "markdown",
   "id": "a3c66343",
   "metadata": {},
   "source": [
    "# Parser XML"
   ]
  },
  {
   "cell_type": "code",
   "execution_count": 8,
   "id": "f937a2b6",
   "metadata": {},
   "outputs": [],
   "source": [
    "corpus = parse_perseus_xml(xml_file_path= data_path / 'gallic_wars_j_ceasar.xml')"
   ]
  },
  {
   "cell_type": "code",
   "execution_count": 9,
   "id": "3f3dad5c",
   "metadata": {},
   "outputs": [
    {
     "data": {
      "text/plain": [
       "'All  Gaul  is divided into three parts, one of which the  Belgae  inhabit, the  Aquitani            '"
      ]
     },
     "execution_count": 9,
     "metadata": {},
     "output_type": "execute_result"
    }
   ],
   "source": [
    "corpus[0:100]"
   ]
  },
  {
   "cell_type": "code",
   "execution_count": null,
   "id": "bd96eda0",
   "metadata": {},
   "outputs": [],
   "source": []
  }
 ],
 "metadata": {
  "kernelspec": {
   "display_name": "ancient_nlp",
   "language": "python",
   "name": "ancient_nlp"
  },
  "language_info": {
   "codemirror_mode": {
    "name": "ipython",
    "version": 3
   },
   "file_extension": ".py",
   "mimetype": "text/x-python",
   "name": "python",
   "nbconvert_exporter": "python",
   "pygments_lexer": "ipython3",
   "version": "3.12.2"
  },
  "toc": {
   "base_numbering": 1,
   "nav_menu": {},
   "number_sections": true,
   "sideBar": true,
   "skip_h1_title": false,
   "title_cell": "Table of Contents",
   "title_sidebar": "Contents",
   "toc_cell": false,
   "toc_position": {
    "height": "calc(100% - 180px)",
    "left": "10px",
    "top": "150px",
    "width": "241.625px"
   },
   "toc_section_display": true,
   "toc_window_display": false
  }
 },
 "nbformat": 4,
 "nbformat_minor": 5
}
